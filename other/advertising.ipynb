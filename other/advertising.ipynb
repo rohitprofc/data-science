{
 "cells": [
  {
   "cell_type": "markdown",
   "id": "a7e5dc83",
   "metadata": {},
   "source": [
    "# Adevertising Dataset with KNN (Regression)"
   ]
  },
  {
   "cell_type": "code",
   "execution_count": 1,
   "id": "b707b87f",
   "metadata": {},
   "outputs": [],
   "source": [
    "import pandas as pd\n",
    "df = pd.read_csv(\"advertising.csv\")"
   ]
  },
  {
   "cell_type": "code",
   "execution_count": 2,
   "id": "56160070",
   "metadata": {},
   "outputs": [],
   "source": [
    "x = df.iloc[:,0:3].values\n",
    "y = df.iloc[:,3].values"
   ]
  },
  {
   "cell_type": "code",
   "execution_count": 3,
   "id": "f11a27e1",
   "metadata": {},
   "outputs": [],
   "source": [
    "from sklearn.model_selection import train_test_split\n",
    "x_train, x_test, y_train, y_test = train_test_split(x, y, test_size = 0.2)"
   ]
  },
  {
   "cell_type": "code",
   "execution_count": 4,
   "id": "896416a7",
   "metadata": {},
   "outputs": [],
   "source": [
    "from sklearn.neighbors import KNeighborsRegressor\n",
    "model = KNeighborsRegressor(n_neighbors = 5)\n",
    "model.fit(x_train, y_train)\n",
    "KNeighborsRegressor()\n",
    "y_pred = model.predict(x_test)"
   ]
  },
  {
   "cell_type": "code",
   "execution_count": 5,
   "id": "df13a5e2",
   "metadata": {},
   "outputs": [
    {
     "name": "stdout",
     "output_type": "stream",
     "text": [
      "0.902700198811987\n"
     ]
    }
   ],
   "source": [
    "from sklearn.metrics import r2_score\n",
    "score = r2_score(y_test, y_pred)\n",
    "print(score)"
   ]
  }
 ],
 "metadata": {
  "kernelspec": {
   "display_name": "Python 3 (ipykernel)",
   "language": "python",
   "name": "python3"
  },
  "language_info": {
   "codemirror_mode": {
    "name": "ipython",
    "version": 3
   },
   "file_extension": ".py",
   "mimetype": "text/x-python",
   "name": "python",
   "nbconvert_exporter": "python",
   "pygments_lexer": "ipython3",
   "version": "3.12.3"
  }
 },
 "nbformat": 4,
 "nbformat_minor": 5
}
