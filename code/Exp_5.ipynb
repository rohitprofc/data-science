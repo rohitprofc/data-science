{
 "cells": [
  {
   "cell_type": "markdown",
   "metadata": {},
   "source": [
    "# Expermient 5"
   ]
  },
  {
   "cell_type": "code",
   "execution_count": 1,
   "metadata": {},
   "outputs": [],
   "source": [
    "import pandas as pd\n",
    "import numpy as np\n",
    "from sklearn.neighbors import KNeighborsRegressor\n",
    "from sklearn.model_selection import train_test_split\n",
    "from sklearn.metrics import r2_score"
   ]
  },
  {
   "cell_type": "code",
   "execution_count": 2,
   "metadata": {},
   "outputs": [],
   "source": [
    "data = pd.read_csv('dataset/smarket.csv')\n",
    "data['Direction'] = data['Direction'].map({'Up': 1, 'Down': 0})\n",
    "X = data[['Lag1', 'Lag2', 'Lag3', 'Lag4', 'Lag5', 'Volume']]\n",
    "y = data['Direction']"
   ]
  },
  {
   "cell_type": "code",
   "execution_count": 3,
   "metadata": {},
   "outputs": [],
   "source": [
    "X_train, X_test, y_train, y_test = train_test_split(X, y, test_size=0.2, random_state=42)"
   ]
  },
  {
   "cell_type": "code",
   "execution_count": 4,
   "metadata": {},
   "outputs": [],
   "source": [
    "knn = KNeighborsRegressor(n_neighbors=3)\n",
    "knn.fit(X_train, y_train)\n",
    "y_pred = knn.predict(X_test)"
   ]
  },
  {
   "cell_type": "code",
   "execution_count": 5,
   "metadata": {},
   "outputs": [],
   "source": [
    "# Compute R-squared, Mallow’s Cp, AIC and BIC:\n",
    "adj_r_squared = 1 - (1 - r2_score(y_test, y_pred)) * ((len(y_test) - 1) / (len(y_test) - X_test.shape[1] - 1))\n",
    "mse = np.mean((y_test - y_pred) ** 2)\n",
    "cp = mse + 2 * X_test.shape[1] * (mse / len(y_test))\n",
    "aic = len(y_test) * np.log(mse) + 2 * X_test.shape[1]\n",
    "bic = len(y_test) * np.log(mse) + X_test.shape[1] * np.log(len(y_test))"
   ]
  },
  {
   "cell_type": "code",
   "execution_count": 6,
   "metadata": {},
   "outputs": [
    {
     "name": "stdout",
     "output_type": "stream",
     "text": [
      "Metric               Value     \n",
      "------------------------------\n",
      "Adjusted R-squared   -0.3285\n",
      "Mallow's Cp          0.3386\n",
      "AIC                  -270.4398\n",
      "BIC                  -249.3110\n"
     ]
    }
   ],
   "source": [
    "print(\"{:<20} {:<10}\".format(\"Metric\", \"Value\"))\n",
    "print(\"-\" * 30)\n",
    "print(\"{:<20} {:.4f}\".format(\"Adjusted R-squared\", adj_r_squared))\n",
    "print(\"{:<20} {:.4f}\".format(\"Mallow's Cp\", cp))\n",
    "print(\"{:<20} {:.4f}\".format(\"AIC\", aic))\n",
    "print(\"{:<20} {:.4f}\".format(\"BIC\", bic))"
   ]
  }
 ],
 "metadata": {
  "kernelspec": {
   "display_name": "venv",
   "language": "python",
   "name": "python3"
  },
  "language_info": {
   "codemirror_mode": {
    "name": "ipython",
    "version": 3
   },
   "file_extension": ".py",
   "mimetype": "text/x-python",
   "name": "python",
   "nbconvert_exporter": "python",
   "pygments_lexer": "ipython3",
   "version": "3.12.3"
  }
 },
 "nbformat": 4,
 "nbformat_minor": 2
}
