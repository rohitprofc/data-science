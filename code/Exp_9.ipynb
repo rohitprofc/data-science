{
 "cells": [
  {
   "cell_type": "markdown",
   "metadata": {},
   "source": [
    "# Experiment 9"
   ]
  },
  {
   "cell_type": "code",
   "execution_count": 1,
   "metadata": {},
   "outputs": [],
   "source": [
    "import pandas as pd\n",
    "from scipy.stats import ttest_1samp, ttest_rel, ttest_ind, mannwhitneyu,chi2_contingency"
   ]
  },
  {
   "cell_type": "code",
   "execution_count": 2,
   "metadata": {},
   "outputs": [],
   "source": [
    "# Load the dataset\n",
    "college_data = pd.read_csv('dataset/collegedata.csv')"
   ]
  },
  {
   "cell_type": "code",
   "execution_count": 3,
   "metadata": {},
   "outputs": [
    {
     "name": "stdout",
     "output_type": "stream",
     "text": [
      "Simple Hypothesis T-test\n",
      "------------------------------\n",
      "T-test Statistic: 14.4166\n"
     ]
    }
   ],
   "source": [
    "# Simple Hypothesis T-test\n",
    "t_statistic, p_value = ttest_1samp(college_data['Apps'], 1000)\n",
    "print(\"Simple Hypothesis T-test\")\n",
    "print(\"-\" * 30)\n",
    "print(\"T-test Statistic: {:.4f}\".format(t_statistic))"
   ]
  },
  {
   "cell_type": "code",
   "execution_count": 4,
   "metadata": {},
   "outputs": [
    {
     "name": "stdout",
     "output_type": "stream",
     "text": [
      "\n",
      "Student T-test\n",
      "------------------------------\n",
      "T-test Statistic: -15.0372\n"
     ]
    }
   ],
   "source": [
    "# Student T-test\n",
    "group1 = college_data[college_data['Private'] == 'Yes']['Accept']\n",
    "group2 = college_data[college_data['Private'] == 'No']['Accept']\n",
    "t_statistic, p_value = ttest_ind(group1, group2)\n",
    "print(\"\\nStudent T-test\")\n",
    "print(\"-\" * 30)\n",
    "print(\"T-test Statistic: {:.4f}\".format(t_statistic))"
   ]
  },
  {
   "cell_type": "code",
   "execution_count": 5,
   "metadata": {},
   "outputs": [
    {
     "name": "stdout",
     "output_type": "stream",
     "text": [
      "\n",
      "Paired T-test (Apps vs Accept)\n",
      "------------------------------\n",
      "T-test Statistic: 15.5935\n"
     ]
    }
   ],
   "source": [
    "# Paired T-test\n",
    "t_statistic, p_value = ttest_rel(college_data['Apps'], college_data['Accept'])\n",
    "print(\"\\nPaired T-test (Apps vs Accept)\")\n",
    "print(\"-\" * 30)\n",
    "print(\"T-test Statistic: {:.4f}\".format(t_statistic))"
   ]
  },
  {
   "cell_type": "code",
   "execution_count": 6,
   "metadata": {},
   "outputs": [
    {
     "name": "stdout",
     "output_type": "stream",
     "text": [
      "\n",
      "Mann-Whitney U Test\n",
      "------------------------------\n",
      "U Statistic: 21811.0000\n"
     ]
    }
   ],
   "source": [
    "# Mann-Whitney U test\n",
    "u_statistic, p_value = mannwhitneyu(group1, group2)\n",
    "print(\"\\nMann-Whitney U Test\")\n",
    "print(\"-\" * 30)\n",
    "print(\"U Statistic: {:.4f}\".format(u_statistic))"
   ]
  },
  {
   "cell_type": "code",
   "execution_count": 7,
   "metadata": {},
   "outputs": [
    {
     "name": "stdout",
     "output_type": "stream",
     "text": [
      "\n",
      "Pearson Correlation\n",
      "------------------------------\n",
      "            Apps    Accept    Enroll\n",
      "Apps    1.000000  0.943451  0.846822\n",
      "Accept  0.943451  1.000000  0.911637\n",
      "Enroll  0.846822  0.911637  1.000000\n"
     ]
    }
   ],
   "source": [
    "# Correlation\n",
    "correlation = college_data[['Apps', 'Accept', 'Enroll']].corr(method='pearson')\n",
    "print(\"\\nPearson Correlation\")\n",
    "print(\"-\" * 30)\n",
    "print(correlation)"
   ]
  },
  {
   "cell_type": "code",
   "execution_count": 8,
   "metadata": {},
   "outputs": [
    {
     "name": "stdout",
     "output_type": "stream",
     "text": [
      "\n",
      "Covariance\n",
      "------------------------------\n",
      "Covariance Value: 8949859.8119\n"
     ]
    }
   ],
   "source": [
    "# Covariance\n",
    "covariance = college_data['Apps'].cov(college_data['Accept'])\n",
    "print(\"\\nCovariance\")\n",
    "print(\"-\" * 30)\n",
    "print(\"Covariance Value: {:.4f}\".format(covariance))"
   ]
  },
  {
   "cell_type": "code",
   "execution_count": 9,
   "metadata": {},
   "outputs": [
    {
     "name": "stdout",
     "output_type": "stream",
     "text": [
      "\n",
      "Chi-square Test\n",
      "------------------------------\n",
      "Chi-square Statistic: 494905.8333\n"
     ]
    }
   ],
   "source": [
    "# Chi-square Test\n",
    "contingency_table = pd.crosstab(college_data['Apps'], college_data['Accept'])\n",
    "chi2_statistic, p_value, _, _ = chi2_contingency(contingency_table)\n",
    "print(\"\\nChi-square Test\")\n",
    "print(\"-\" * 30)\n",
    "print(\"Chi-square Statistic: {:.4f}\".format(chi2_statistic))"
   ]
  }
 ],
 "metadata": {
  "kernelspec": {
   "display_name": "venv",
   "language": "python",
   "name": "python3"
  },
  "language_info": {
   "codemirror_mode": {
    "name": "ipython",
    "version": 3
   },
   "file_extension": ".py",
   "mimetype": "text/x-python",
   "name": "python",
   "nbconvert_exporter": "python",
   "pygments_lexer": "ipython3",
   "version": "3.12.3"
  }
 },
 "nbformat": 4,
 "nbformat_minor": 2
}
