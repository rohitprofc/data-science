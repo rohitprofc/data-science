{
 "cells": [
  {
   "cell_type": "markdown",
   "metadata": {},
   "source": [
    "# Experiment 2"
   ]
  },
  {
   "cell_type": "code",
   "execution_count": 1,
   "metadata": {},
   "outputs": [],
   "source": [
    "import pandas as pd\n",
    "import statsmodels.api as sm\n"
   ]
  },
  {
   "cell_type": "code",
   "execution_count": 2,
   "metadata": {},
   "outputs": [],
   "source": [
    "data = pd.read_csv('dataset/advertising.csv')\n",
    "\n",
    "x = data['TV'].values.reshape(-1, 1)\n",
    "y = data['Sales'].values"
   ]
  },
  {
   "cell_type": "code",
   "execution_count": 3,
   "metadata": {},
   "outputs": [],
   "source": [
    "x = sm.add_constant(x)\n",
    "model = sm.OLS(y, x).fit()"
   ]
  },
  {
   "cell_type": "code",
   "execution_count": 4,
   "metadata": {},
   "outputs": [],
   "source": [
    "t_stat = model.tvalues[1]  #T - Statistics\n",
    "rse = model.mse_resid ** 0.5  #Residual Standard Error\n",
    "f_stat = model.fvalue  #F - Statistic\n",
    "rss = model.ssr  #Residual Sum of Squares Error"
   ]
  },
  {
   "cell_type": "code",
   "execution_count": 5,
   "metadata": {},
   "outputs": [
    {
     "name": "stdout",
     "output_type": "stream",
     "text": [
      "T-Statistic:                      29.2605\n",
      "Residual Standard Error:           2.2957\n",
      "F-Statistic:                     856.1767\n",
      "Residual Sum of Squares (RSS):  1043.5488\n"
     ]
    }
   ],
   "source": [
    "print(f\"{'T-Statistic:':<30} {t_stat:>10.4f}\")\n",
    "print(f\"{'Residual Standard Error:':<30} {rse:>10.4f}\")\n",
    "print(f\"{'F-Statistic:':<30} {f_stat:>10.4f}\")\n",
    "print(f\"{'Residual Sum of Squares (RSS):':<30} {rss:>10.4f}\")"
   ]
  }
 ],
 "metadata": {
  "kernelspec": {
   "display_name": "venv",
   "language": "python",
   "name": "python3"
  },
  "language_info": {
   "codemirror_mode": {
    "name": "ipython",
    "version": 3
   },
   "file_extension": ".py",
   "mimetype": "text/x-python",
   "name": "python",
   "nbconvert_exporter": "python",
   "pygments_lexer": "ipython3",
   "version": "3.12.3"
  }
 },
 "nbformat": 4,
 "nbformat_minor": 2
}
