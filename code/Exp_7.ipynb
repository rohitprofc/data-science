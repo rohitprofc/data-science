{
 "cells": [
  {
   "cell_type": "markdown",
   "metadata": {},
   "source": [
    "# Experiment 7"
   ]
  },
  {
   "cell_type": "markdown",
   "metadata": {},
   "source": [
    "### Exploring the College Dataset with Histograms\n",
    "\n",
    "The **College dataset** contains data for 777 universities and colleges in the US. We explored the distribution of key variables by generating histograms using different bin sizes. Below is a summary based on the visualizations created:\n",
    "\n",
    "#### 1. **Number of Applications (`Apps`)**\n",
    "   - **Histogram with 10 Bins**:\n",
    "     - The distribution of applications is highly **right-skewed**, with the majority of colleges receiving fewer than 10,000 applications.\n",
    "     - A small number of colleges have over 20,000 applications, indicating the presence of outliers or large institutions.\n",
    "   - **Histogram with 20 Bins**:\n",
    "     - With 20 bins, the skewness becomes more evident, as most schools fall into the lower range of applications, highlighting the uneven distribution of student demand across institutions.\n",
    "\n",
    "#### 2. **Number of Enrollments (`Enroll`)**\n",
    "   - **Histogram with 10 Bins**:\n",
    "     - The enrollment data shows a **right-skewed distribution** as well, with many colleges enrolling fewer than 2,000 students.\n",
    "     - A few colleges have much larger enrollments, exceeding 5,000 students, which represents the larger universities in the dataset.\n",
    "   - **Histogram with 20 Bins**:\n",
    "     - The finer binning reinforces the concentration of smaller enrollments, but it also captures more detail about medium-sized institutions, where a substantial number of colleges enroll between 1,000 and 4,000 students.\n",
    "\n",
    "#### 3. **Out-of-State Tuition (`Outstate`)**\n",
    "   - **Histogram with 10 Bins**:\n",
    "     - The distribution of out-of-state tuition is more **normally distributed** than the previous variables, though still slightly skewed to the right.\n",
    "     - Most colleges charge between **$5,000 and $15,000**, with a few private institutions charging significantly higher fees.\n",
    "   - **Histogram with 20 Bins**:\n",
    "     - The additional bins show a clearer view of this range, where a smaller number of institutions charge between **$15,000 and $20,000**, and the skew is more apparent with some outliers above **$20,000**.\n",
    "\n",
    "#### 4. **Graduation Rate (`Grad.Rate`)**\n",
    "   - **Histogram with 10 Bins**:\n",
    "     - The graduation rate data shows a **left-skewed** distribution, with the majority of colleges having graduation rates between **50% and 100%**.\n",
    "     - A few institutions have unusually low graduation rates, below **30%**.\n",
    "   - **Histogram with 20 Bins**:\n",
    "     - The distribution becomes clearer with more bins, showing that while most colleges fall in the higher graduation rate range, there is a distinct group with rates under **60%**, likely indicating smaller or less competitive schools.\n",
    "\n",
    "### Key Insights\n",
    "- **Skewed Distributions**: Many variables, such as `Apps`, `Enroll`, and `Outstate`, exhibit right-skewed distributions, indicating that a small number of institutions are larger or more expensive than the majority.\n",
    "- **Graduation Rate**: The majority of colleges have high graduation rates, with a small number of outliers performing poorly in this metric.\n",
    "- **Tuition**: Out-of-state tuition varies widely, with a large cluster of schools charging moderate fees, but a notable presence of higher-cost institutions, especially private colleges.\n",
    "\n",
    "### Conclusion\n",
    "The histograms reveal the unequal distribution of key metrics across US colleges, with a few large institutions or outliers skewing the data. This exploration shows the diversity in size, tuition, and performance among colleges, which can be further analyzed to understand trends in higher education.\n"
   ]
  }
 ],
 "metadata": {
  "language_info": {
   "name": "python"
  }
 },
 "nbformat": 4,
 "nbformat_minor": 2
}
