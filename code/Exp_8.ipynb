{
 "cells": [
  {
   "cell_type": "markdown",
   "metadata": {},
   "source": [
    "# Experiment 8"
   ]
  },
  {
   "cell_type": "code",
   "execution_count": 1,
   "metadata": {},
   "outputs": [],
   "source": [
    "import pandas as pd"
   ]
  },
  {
   "cell_type": "code",
   "execution_count": 2,
   "metadata": {},
   "outputs": [],
   "source": [
    "college_data = pd.read_csv('dataset/collegedata.csv')\n",
    "selected_variables = ['Apps', 'Accept', 'Enroll']"
   ]
  },
  {
   "cell_type": "code",
   "execution_count": 3,
   "metadata": {},
   "outputs": [],
   "source": [
    "# Calculate Pearson correlation, Spearman correlation, Kendall correlation\n",
    "\n",
    "pearson_corr = college_data[selected_variables].corr(method='pearson') \n",
    "spearman_corr = college_data[selected_variables].corr(method='spearman')\n",
    "kendall_corr = college_data[selected_variables].corr(method='kendall')"
   ]
  },
  {
   "cell_type": "code",
   "execution_count": 4,
   "metadata": {},
   "outputs": [
    {
     "name": "stdout",
     "output_type": "stream",
     "text": [
      "Correlation Analysis:\n",
      "------------------------------\n",
      "\n",
      "Pearson Correlation:\n",
      "\n",
      "            Apps    Accept    Enroll\n",
      "Apps    1.000000  0.943451  0.846822\n",
      "Accept  0.943451  1.000000  0.911637\n",
      "Enroll  0.846822  0.911637  1.000000\n",
      "\n",
      "Spearman Correlation:\n",
      "\n",
      "            Apps   Accept    Enroll\n",
      "Apps    1.000000  0.97939  0.926169\n",
      "Accept  0.979390  1.00000  0.946400\n",
      "Enroll  0.926169  0.94640  1.000000\n",
      "\n",
      "Kendall Correlation:\n",
      "\n",
      "            Apps    Accept    Enroll\n",
      "Apps    1.000000  0.886006  0.763762\n",
      "Accept  0.886006  1.000000  0.801569\n",
      "Enroll  0.763762  0.801569  1.000000\n"
     ]
    }
   ],
   "source": [
    "print(\"Correlation Analysis:\")\n",
    "print(\"-\" * 30)\n",
    "print(\"\\nPearson Correlation:\\n\")\n",
    "print(pearson_corr)\n",
    "print(\"\\nSpearman Correlation:\\n\")\n",
    "print(spearman_corr)\n",
    "print(\"\\nKendall Correlation:\\n\")\n",
    "print(kendall_corr)"
   ]
  }
 ],
 "metadata": {
  "kernelspec": {
   "display_name": "venv",
   "language": "python",
   "name": "python3"
  },
  "language_info": {
   "codemirror_mode": {
    "name": "ipython",
    "version": 3
   },
   "file_extension": ".py",
   "mimetype": "text/x-python",
   "name": "python",
   "nbconvert_exporter": "python",
   "pygments_lexer": "ipython3",
   "version": "3.12.3"
  }
 },
 "nbformat": 4,
 "nbformat_minor": 2
}
