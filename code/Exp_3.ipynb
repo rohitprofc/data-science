{
 "cells": [
  {
   "cell_type": "markdown",
   "metadata": {},
   "source": [
    "# Experiment 3"
   ]
  },
  {
   "cell_type": "markdown",
   "metadata": {},
   "source": [
    "### K-Nearest Neighbors (KNN) with S&P 500 Daily Percentage Returns Data\n",
    "\n",
    "To perform K-Nearest Neighbors (KNN) on the S&P 500 daily percentage returns over a 5-year period, we can use the following steps:\n",
    "\n",
    "1. **Data Setup**:\n",
    "    - **Response Variable**: `Direction` (indicating whether the market goes up or down).\n",
    "    - **Predictors**: Five lag variables (`Lag1`, `Lag2`, `Lag3`, `Lag4`, `Lag5`) and `Volume`.\n",
    "  \n",
    "2. **Modeling Approach**:\n",
    "    - We will use the `KNN` algorithm with `K = 3`.\n",
    "    - The predictors (Lag variables and Volume) are used to predict the `Direction`.\n",
    "\n",
    "3. **Analysis of Predictors**:\n",
    "    - In the KNN algorithm, the concept of \"statistical significance\" is not directly applicable in the same way it would be in linear regression or similar statistical models.\n",
    "    - KNN is a non-parametric, distance-based approach, and it does not estimate parameters like coefficients that have associated p-values.\n",
    "\n",
    "4. **Insights**:\n",
    "    - Although we cannot directly determine statistical significance in KNN, we can assess the **importance of predictors** based on their contribution to the accuracy of classification.\n",
    "    - Techniques such as **feature scaling** and **feature importance** using model validation (e.g., cross-validation) could help determine which predictors contribute most to the model's performance.\n",
    "\n",
    "### Conclusion:\n",
    "In this KNN model with `K = 3`, we do not calculate statistical significance in the traditional sense. Instead, the predictors' relevance can be gauged through their impact on model accuracy via cross-validation or testing performance on different datasets.\n"
   ]
  }
 ],
 "metadata": {
  "language_info": {
   "name": "python"
  }
 },
 "nbformat": 4,
 "nbformat_minor": 2
}
